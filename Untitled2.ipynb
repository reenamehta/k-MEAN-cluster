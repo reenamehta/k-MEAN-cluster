{
  "nbformat": 4,
  "nbformat_minor": 0,
  "metadata": {
    "colab": {
      "name": "Untitled2.ipynb",
      "provenance": []
    },
    "kernelspec": {
      "name": "python3",
      "display_name": "Python 3"
    },
    "language_info": {
      "name": "python"
    }
  },
  "cells": [
    {
      "cell_type": "markdown",
      "metadata": {
        "id": "SaJKTGj5YqqZ"
      },
      "source": [
        "##K-means clustering is an unsupervised algorithm. In an unsupervised algorithm, we are not interested in making predictions(there don’t have a target/output variable). Clustering techniques use raw data to form clusters based on common factors among various data points. Customer segmentation for targeted marketing is one of the most vital applications of the clustering algorithm.\n",
        "\n",
        "Assumptions\n",
        "\n",
        "\n",
        "1. K Means algorithm performs poorly if data contains outliers.\n",
        "2. K Means algorithm can’t handle missing values\n",
        "3. Clustering variables shouldn’t be highly correlated to each other\n",
        "4. All clustering variables should be standardized as the magnitude of variables impact distance calculation"
      ]
    },
    {
      "cell_type": "markdown",
      "metadata": {
        "id": "upltZ3jxasbt"
      },
      "source": [
        "Important Factors while Using K-means Algorithm\n",
        "\n",
        "1. Number of clusters (K): The number of clusters you want to group your data points into, has to be predefined.\n",
        "\n",
        "2. Initial Values/ Seeds: Choice of the initial cluster centres can have an impact on the final cluster formation. The K-means algorithm is non-deterministic. This means that the outcome of clustering can be different each time the algorithm is run even on the same data set.\n",
        "\n",
        "3. Outliers: Cluster formation is very sensitive to the presence of outliers. Outliers pull the cluster towards itself, thus affecting optimal cluster formation.\n",
        "\n",
        "4. Distance Measures: Using different distance measures (used to calculate distance between a data point and cluster centre) might yield different clusters.\n",
        "\n",
        "5. The K-Means algorithm does not work with categorical data.\n",
        "\n",
        "6. The process may not converge in the given number of iterations. You should always check for convergence.\n",
        "\n",
        "The ways by which we can select an optimal number of clusters (K). There are several methods to find the best value of K. We will discuss them one by one.\n",
        "\n",
        "---\n",
        "\n"
      ]
    },
    {
      "cell_type": "markdown",
      "metadata": {
        "id": "nnhSNUPLbhwU"
      },
      "source": [
        "1. Elbow Curve Method\n",
        "The elbow method runs k-means clustering on the dataset for a range of values of k (say 1 to 10).\n",
        "\n",
        "Perform K-means clustering with all these different values of K. For each of the K values, we calculate average distances to the centroid across all data points.\n",
        "Plot these points and find the point where the average distance from the centroid falls suddenly (“Elbow”)."
      ]
    },
    {
      "cell_type": "code",
      "metadata": {
        "colab": {
          "base_uri": "https://localhost:8080/",
          "height": 265
        },
        "id": "lMp6WsTDYqZF",
        "outputId": "0a734bc2-cb99-4c02-9f98-ca8a63d42480"
      },
      "source": [
        "import pandas as pd\n",
        "import matplotlib.pyplot as plt\n",
        "import seaborn as sns\n",
        "import sklearn\n",
        "import numpy as np\n",
        "\n",
        "from sklearn.cluster import KMeans\n",
        "from sklearn.metrics import silhouette_score\n",
        "\n",
        "# from sklearn.datasets.samples_generator import make_blobs\n",
        "# X, y = make_blobs(n_samples = 100, centers = 4, cluster_std = 1, n_features = 2)\n",
        "\n",
        "X1 = [3, 1, 1, 2, 1, 6, 6, 6, 5, 6, 7, 8, 9, 8, 9, 9, 8]\n",
        "X2 = [5, 4, 5, 6, 5, 8, 6, 7, 6, 7, 1, 2, 1, 2, 3, 2, 3]\n",
        "data_frame = np.array(list(zip(X1, X2))).reshape(len(X1), 2)\n",
        "plt.scatter(X1,X2)\n",
        "plt.show()"
      ],
      "execution_count": 6,
      "outputs": [
        {
          "output_type": "display_data",
          "data": {
            "image/png": "[encoded data removed]",
            "text/plain": [
              "<Figure size 432x288 with 1 Axes>"
            ]
          },
          "metadata": {
            "needs_background": "light"
          }
        }
      ]
    },
    {
      "cell_type": "code",
      "metadata": {
        "colab": {
          "base_uri": "https://localhost:8080/",
          "height": 295
        },
        "id": "k6mvjX_OYojb",
        "outputId": "85eff995-1edb-4533-fecd-e6278de5b757"
      },
      "source": [
        "Sum_of_squared_distances = []\n",
        "K = range(1,10)\n",
        "for num_clusters in K :\n",
        " kmeans = KMeans(n_clusters=num_clusters)\n",
        " kmeans.fit(data_frame)\n",
        " Sum_of_squared_distances.append(kmeans.inertia_)\n",
        "plt.plot(K,Sum_of_squared_distances,'bx-')\n",
        "plt.xlabel('Values of K') \n",
        "plt.ylabel('Sum of squared distances/Inertia') \n",
        "plt.title('Elbow Method For Optimal k')\n",
        "plt.show()"
      ],
      "execution_count": 7,
      "outputs": [
        {
          "output_type": "display_data",
          "data": {
            "image/png": "[encoded data removed]",
            "text/plain": [
              "<Figure size 432x288 with 1 Axes>"
            ]
          },
          "metadata": {
            "needs_background": "light"
          }
        }
      ]
    },
    {
      "cell_type": "markdown",
      "metadata": {
        "id": "7peVyEGSfUgN"
      },
      "source": [
        "2. Silhouette analysis: The silhouette value measures how similar a point is to its own cluster (cohesion) compared to other clusters (separation).\n",
        "The silhouette coefficient is a measure of how similar a data point is within-cluster (cohesion) compared to other clusters (separation).\n",
        "\n",
        "Select a range of values of k (say 1 to 10).\n",
        "Plot Silhouette coefﬁcient for each value of K.\n",
        "The equation for calculating the silhouette coefﬁcient for a particular data point:   \n",
        "            S(i)=  b(i)-a(i)\n",
        "                   -----------\n",
        "                  max{a(i),b(i)}\n",
        "\n",
        "silhouette score\n",
        "S(i) is the silhouette coefficient of the data point i.\n",
        "a(i) is the average distance between i and all the other data points in the cluster to which i belongs.\n",
        "b(i) is the average distance from i to all clusters to which i does not belong.\n",
        "\n",
        "Calculating silhouette coefficient:\n",
        "The value of the silhouette coefﬁcient is between [-1, 1].\n",
        "A score of 1 denotes the best meaning that the data point i is very compact within the cluster to which it belongs and far away from the other clusters.\n",
        "The worst value is -1. Values near 0 denote overlapping clusters."
      ]
    },
    {
      "cell_type": "code",
      "metadata": {
        "colab": {
          "base_uri": "https://localhost:8080/"
        },
        "id": "OF_WKfK_fWE1",
        "outputId": "2622eb8e-da63-4c3f-a76e-2220f465deb6"
      },
      "source": [
        "# range_n_clusters = [2, 3, 4, 5, 6, 7, 8]\n",
        "# silhouette_avg = []\n",
        "# for num_clusters in range_n_clusters:\n",
        " \n",
        "#  # initialise kmeans\n",
        "#  kmeans = KMeans(n_clusters=num_clusters)\n",
        "#  kmeans.fit(data_frame)\n",
        "#  cluster_labels = kmeans.labels_\n",
        " \n",
        "#  # silhouette score\n",
        "# silhouette_avg.append(silhouette_score(data_frame, cluster_labels))\n",
        "# plt.plot(range_n_clusters,silhouette_avg)\n",
        "from sklearn.datasets import make_blobs\n",
        "from sklearn.cluster import KMeans\n",
        "from sklearn.metrics import silhouette_score\n",
        "  \n",
        "# Generating the sample data from make_blobs\n",
        "  \n",
        "X, Y = make_blobs()  \n",
        "  \n",
        "no_of_clusters = [2, 3, 4, 5, 6]\n",
        "  \n",
        "for n_clusters in no_of_clusters:\n",
        "  \n",
        "    cluster = KMeans(n_clusters = n_clusters)\n",
        "    cluster_labels = cluster.fit_predict(X)\n",
        "  \n",
        "    # The silhouette_score gives the \n",
        "    # average value for all the samples.\n",
        "    silhouette_avg = silhouette_score(X, cluster_labels)\n",
        "  \n",
        "    print(\"For no of clusters =\", n_clusters,\n",
        "          \" The average silhouette_score is :\", silhouette_avg)\n",
        " "
      ],
      "execution_count": 21,
      "outputs": [
        {
          "output_type": "stream",
          "name": "stdout",
          "text": [
            "For no of clusters = 2  The average silhouette_score is : 0.8023695313969875\n",
            "For no of clusters = 3  The average silhouette_score is : 0.6979297500581866\n",
            "For no of clusters = 4  The average silhouette_score is : 0.5554671764665611\n",
            "For no of clusters = 5  The average silhouette_score is : 0.4604729220539668\n",
            "For no of clusters = 6  The average silhouette_score is : 0.41800310743198077\n"
          ]
        }
      ]
    }
  ]
}